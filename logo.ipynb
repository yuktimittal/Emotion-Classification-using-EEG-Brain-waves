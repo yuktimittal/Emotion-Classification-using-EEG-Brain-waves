{
  "nbformat": 4,
  "nbformat_minor": 0,
  "metadata": {
    "colab": {
      "name": "logo.ipynb",
      "provenance": [],
      "collapsed_sections": [],
      "include_colab_link": true
    },
    "kernelspec": {
      "name": "python3",
      "display_name": "Python 3"
    }
  },
  "cells": [
    {
      "cell_type": "markdown",
      "metadata": {
        "id": "view-in-github",
        "colab_type": "text"
      },
      "source": [
        "<a href=\"https://colab.research.google.com/github/yuktimittal/Emotion-Classification-using-EEG-Brain-waves/blob/master/logo.ipynb\" target=\"_parent\"><img src=\"https://colab.research.google.com/assets/colab-badge.svg\" alt=\"Open In Colab\"/></a>"
      ]
    },
    {
      "cell_type": "code",
      "metadata": {
        "id": "mzurOIRS2JmJ",
        "colab_type": "code",
        "colab": {
          "base_uri": "https://localhost:8080/",
          "height": 33
        },
        "outputId": "ac17ebc9-89ee-4035-9058-e1896479bb70"
      },
      "source": [
        "from google.colab import drive\n",
        "drive.mount('/content/drive')\n",
        "import os\n",
        "os.chdir(r'/content/drive/My Drive/Colab Notebooks')"
      ],
      "execution_count": null,
      "outputs": [
        {
          "output_type": "stream",
          "text": [
            "Drive already mounted at /content/drive; to attempt to forcibly remount, call drive.mount(\"/content/drive\", force_remount=True).\n"
          ],
          "name": "stdout"
        }
      ]
    },
    {
      "cell_type": "code",
      "metadata": {
        "id": "hV9NckuW4Od-",
        "colab_type": "code",
        "colab": {}
      },
      "source": [
        "import numpy as np\n",
        "from sklearn.model_selection import LeaveOneGroupOut\n",
        "\n",
        "file_x = 'data/32/features_raw.dat'\n",
        "file_y = 'data/label_class_0_3.5.dat'\n",
        "y = np.genfromtxt(file_y, delimiter=' ')\n",
        "X = np.genfromtxt(file_x, delimiter=' ')"
      ],
      "execution_count": null,
      "outputs": []
    },
    {
      "cell_type": "code",
      "metadata": {
        "id": "lJey-dqG4Y-X",
        "colab_type": "code",
        "colab": {}
      },
      "source": [
        "grp=[]\n",
        "for i in range(1,33):\n",
        "  for j in range(40):\n",
        "    grp.append(i)"
      ],
      "execution_count": null,
      "outputs": []
    },
    {
      "cell_type": "code",
      "metadata": {
        "id": "mNFF3WpM4ZD4",
        "colab_type": "code",
        "colab": {}
      },
      "source": [
        "import pandas as pd\n",
        "from xgboost import XGBClassifier\n",
        "from sklearn.feature_selection import SelectFromModel\n",
        "from sklearn.metrics import confusion_matrix \n",
        "from sklearn.metrics import accuracy_score \n",
        "from sklearn.metrics import classification_report\n",
        "from numpy import sort\n",
        "from sklearn.svm import SVC"
      ],
      "execution_count": null,
      "outputs": []
    },
    {
      "cell_type": "code",
      "metadata": {
        "id": "mxF83fLK4ZH0",
        "colab_type": "code",
        "colab": {
          "base_uri": "https://localhost:8080/",
          "height": 1000
        },
        "outputId": "c4929305-7bc6-4fc4-a4c2-aebf434546ac"
      },
      "source": [
        "def f(xx):\n",
        "      try:\n",
        "        if float(xx)<0.05:\n",
        "          return xx\n",
        "      except:\n",
        "        return NaN\n",
        "\n",
        "loo = LeaveOneGroupOut()\n",
        "prediction=[]\n",
        "actual=[]\n",
        "results=[]\n",
        "count=1\n",
        "for train_index, test_index in loo.split(X,y,grp):\n",
        "  \n",
        "      print(count)\n",
        "      X_train, X_test = X[train_index], X[test_index]\n",
        "      y_train, y_test = y[train_index], y[test_index]\n",
        "\n",
        "      #Feature Scaling\n",
        "      from sklearn.preprocessing import StandardScaler\n",
        "      sc = StandardScaler()\n",
        "      X_train = sc.fit_transform(X_train)\n",
        "      X_test = sc.transform(X_test)\n",
        "\n",
        "      X_train_pd=pd.DataFrame(X_train)\n",
        "      X_test_pd=pd.DataFrame(X_test)\n",
        "      from sklearn.feature_selection import SelectKBest, f_classif\n",
        "      X_indices = np.arange(X.shape[-1])\n",
        "      selector = SelectKBest(f_classif)\n",
        "      selector.fit(X_train, y_train)\n",
        "      #dell = -np.log10(selector.pvalues_)\n",
        "      #dell /= dell.max()\n",
        "      dell1=pd.DataFrame(selector.pvalues_,columns=None)\n",
        "      dell1[0]=dell1[0].apply(f)\n",
        "      l=dell1.dropna().to_dict()[0].keys()\n",
        "      X_train_pd=X_train_pd[l]\n",
        "      X_test_pd=X_test_pd[l]\n",
        "      X_train=X_train_pd.to_numpy()\n",
        "      X_test=X_test_pd.to_numpy()\n",
        "        \n",
        "      # SVM Classifier\n",
        "      model = XGBClassifier()\n",
        "      model.fit(X_train, y_train)\n",
        "      thresholds = sort(model.feature_importances_)\n",
        "      selection = SelectFromModel(model, threshold=thresholds[-5], prefit=True)\n",
        "      select_X_train = selection.transform(X_train)\n",
        "      selection_model = SVC(kernel = 'rbf', random_state = 5)\n",
        "      selection_model.fit(select_X_train, y_train)\n",
        "      select_X_test = selection.transform(X_test)\n",
        "      predictions = selection_model.predict(select_X_test)\n",
        "      accuracy = accuracy_score(y_test, predictions)\n",
        "      print(\"Thresh=%.3f, n=%d, Accuracy: %.2f%%\" % (thresholds[-5], select_X_train.shape[1], accuracy*100.0))\n",
        "      results.append(accuracy*100.0)\n",
        "      prediction.append(predictions)\n",
        "      actual.append(y_test)   \n",
        "      count+=1"
      ],
      "execution_count": null,
      "outputs": [
        {
          "output_type": "stream",
          "text": [
            "1\n",
            "Thresh=0.007, n=5, Accuracy: 60.00%\n",
            "2\n",
            "Thresh=0.007, n=5, Accuracy: 75.00%\n",
            "3\n",
            "Thresh=0.007, n=5, Accuracy: 92.50%\n",
            "4\n",
            "Thresh=0.007, n=5, Accuracy: 47.50%\n",
            "5\n",
            "Thresh=0.007, n=5, Accuracy: 80.00%\n",
            "6\n",
            "Thresh=0.007, n=5, Accuracy: 92.50%\n",
            "7\n",
            "Thresh=0.007, n=5, Accuracy: 77.50%\n",
            "8\n",
            "Thresh=0.007, n=5, Accuracy: 87.50%\n",
            "9\n",
            "Thresh=0.008, n=5, Accuracy: 77.50%\n",
            "10\n",
            "Thresh=0.007, n=5, Accuracy: 75.00%\n",
            "11\n",
            "Thresh=0.006, n=5, Accuracy: 80.00%\n",
            "12\n",
            "Thresh=0.007, n=5, Accuracy: 62.50%\n",
            "13\n",
            "Thresh=0.007, n=5, Accuracy: 70.00%\n",
            "14\n",
            "Thresh=0.006, n=5, Accuracy: 60.00%\n",
            "15\n",
            "Thresh=0.007, n=5, Accuracy: 75.00%\n",
            "16\n",
            "Thresh=0.007, n=5, Accuracy: 67.50%\n",
            "17\n",
            "Thresh=0.007, n=5, Accuracy: 90.00%\n",
            "18\n",
            "Thresh=0.007, n=5, Accuracy: 95.00%\n",
            "19\n",
            "Thresh=0.008, n=5, Accuracy: 72.50%\n",
            "20\n",
            "Thresh=0.007, n=5, Accuracy: 82.50%\n",
            "21\n",
            "Thresh=0.007, n=5, Accuracy: 80.00%\n",
            "22\n",
            "Thresh=0.007, n=5, Accuracy: 62.50%\n",
            "23\n",
            "Thresh=0.007, n=5, Accuracy: 92.50%\n",
            "24\n",
            "Thresh=0.007, n=5, Accuracy: 70.00%\n",
            "25\n",
            "Thresh=0.007, n=5, Accuracy: 62.50%\n",
            "26\n",
            "Thresh=0.007, n=5, Accuracy: 70.00%\n",
            "27\n",
            "Thresh=0.007, n=5, Accuracy: 87.50%\n",
            "28\n",
            "Thresh=0.007, n=5, Accuracy: 67.50%\n",
            "29\n",
            "Thresh=0.007, n=5, Accuracy: 70.00%\n",
            "30\n",
            "Thresh=0.006, n=5, Accuracy: 92.50%\n",
            "31\n",
            "Thresh=0.007, n=5, Accuracy: 82.50%\n",
            "32\n",
            "Thresh=0.007, n=5, Accuracy: 87.50%\n"
          ],
          "name": "stdout"
        }
      ]
    },
    {
      "cell_type": "code",
      "metadata": {
        "id": "EGVl85zk4ZCc",
        "colab_type": "code",
        "colab": {
          "base_uri": "https://localhost:8080/",
          "height": 97
        },
        "outputId": "23836519-192f-4374-8818-eba54c1ab752"
      },
      "source": [
        "prediction=np.concatenate(prediction).ravel().tolist()\n",
        "actual=np.concatenate(actual).ravel().tolist()\n",
        "print(confusion_matrix(actual, prediction)) \n",
        "print(\"mean= \",np.mean(results))\n",
        "print(\"standard deviation= \",np.std(results))  \n",
        "print(\"ACCURACY=\", accuracy_score(actual, prediction)*100) "
      ],
      "execution_count": null,
      "outputs": [
        {
          "output_type": "stream",
          "text": [
            "[[  5 292]\n",
            " [ 10 973]]\n",
            "mean=  76.40625\n",
            "standard deviation=  11.658176784450474\n",
            "ACCURACY= 76.40625\n"
          ],
          "name": "stdout"
        }
      ]
    },
    {
      "cell_type": "code",
      "metadata": {
        "id": "A6enXDav4Y9f",
        "colab_type": "code",
        "colab": {}
      },
      "source": [
        "import numpy as np\n",
        "from sklearn.model_selection import LeaveOneGroupOut\n",
        "\n",
        "file_x = 'data/32/features_raw.dat'\n",
        "file_y = 'data/label_class_1_3.5.dat'\n",
        "y = np.genfromtxt(file_y, delimiter=' ')\n",
        "X = np.genfromtxt(file_x, delimiter=' ')"
      ],
      "execution_count": null,
      "outputs": []
    },
    {
      "cell_type": "code",
      "metadata": {
        "id": "TLFaMX6H5x9v",
        "colab_type": "code",
        "colab": {
          "base_uri": "https://localhost:8080/",
          "height": 1000
        },
        "outputId": "32d8963e-c2db-4556-f13e-9a21600ee273"
      },
      "source": [
        "def f(xx):\n",
        "      try:\n",
        "        if float(xx)<0.05:\n",
        "          return xx\n",
        "      except:\n",
        "        return NaN\n",
        "\n",
        "loo = LeaveOneGroupOut()\n",
        "prediction1=[]\n",
        "actual1=[]\n",
        "results1=[]\n",
        "count=1\n",
        "for train_index, test_index in loo.split(X,y,grp):\n",
        "  \n",
        "      print(count)\n",
        "      X_train, X_test = X[train_index], X[test_index]\n",
        "      y_train, y_test = y[train_index], y[test_index]\n",
        "\n",
        "      #Feature Scaling\n",
        "      from sklearn.preprocessing import StandardScaler\n",
        "      sc = StandardScaler()\n",
        "      X_train = sc.fit_transform(X_train)\n",
        "      X_test = sc.transform(X_test)\n",
        "\n",
        "      X_train_pd=pd.DataFrame(X_train)\n",
        "      X_test_pd=pd.DataFrame(X_test)\n",
        "      from sklearn.feature_selection import SelectKBest, f_classif\n",
        "      X_indices = np.arange(X.shape[-1])\n",
        "      selector = SelectKBest(f_classif)\n",
        "      selector.fit(X_train, y_train)\n",
        "      #dell = -np.log10(selector.pvalues_)\n",
        "      #dell /= dell.max()\n",
        "      dell1=pd.DataFrame(selector.pvalues_,columns=None)\n",
        "      dell1[0]=dell1[0].apply(f)\n",
        "      l=dell1.dropna().to_dict()[0].keys()\n",
        "      X_train_pd=X_train_pd[l]\n",
        "      X_test_pd=X_test_pd[l]\n",
        "      X_train=X_train_pd.to_numpy()\n",
        "      X_test=X_test_pd.to_numpy()\n",
        "        \n",
        "      # SVM Classifier\n",
        "      model = XGBClassifier()\n",
        "      model.fit(X_train, y_train)\n",
        "      thresholds = sort(model.feature_importances_)\n",
        "      selection = SelectFromModel(model, threshold=thresholds[-5], prefit=True)\n",
        "      select_X_train = selection.transform(X_train)\n",
        "      selection_model = SVC(kernel = 'rbf', random_state = 5)\n",
        "      selection_model.fit(select_X_train, y_train)\n",
        "      select_X_test = selection.transform(X_test)\n",
        "      predictions = selection_model.predict(select_X_test)\n",
        "      accuracy = accuracy_score(y_test, predictions)\n",
        "      print(\"Thresh=%.3f, n=%d, Accuracy: %.2f%%\" % (thresholds[-5], select_X_train.shape[1], accuracy*100.0))\n",
        "      results1.append(accuracy*100.0)\n",
        "      prediction1.append(predictions)\n",
        "      actual1.append(y_test)   \n",
        "      count+=1"
      ],
      "execution_count": null,
      "outputs": [
        {
          "output_type": "stream",
          "text": [
            "1\n",
            "Thresh=0.007, n=5, Accuracy: 72.50%\n",
            "2\n",
            "Thresh=0.006, n=5, Accuracy: 67.50%\n",
            "3\n",
            "Thresh=0.006, n=5, Accuracy: 50.00%\n",
            "4\n",
            "Thresh=0.006, n=5, Accuracy: 57.50%\n",
            "5\n",
            "Thresh=0.006, n=5, Accuracy: 82.50%\n",
            "6\n",
            "Thresh=0.007, n=5, Accuracy: 77.50%\n",
            "7\n",
            "Thresh=0.007, n=5, Accuracy: 75.00%\n",
            "8\n",
            "Thresh=0.006, n=5, Accuracy: 90.00%\n",
            "9\n",
            "Thresh=0.006, n=5, Accuracy: 100.00%\n",
            "10\n",
            "Thresh=0.006, n=5, Accuracy: 77.50%\n",
            "11\n",
            "Thresh=0.008, n=5, Accuracy: 52.50%\n",
            "12\n",
            "Thresh=0.006, n=5, Accuracy: 87.50%\n",
            "13\n",
            "Thresh=0.007, n=5, Accuracy: 92.50%\n",
            "14\n",
            "Thresh=0.006, n=5, Accuracy: 72.50%\n",
            "15\n",
            "Thresh=0.007, n=5, Accuracy: 80.00%\n",
            "16\n",
            "Thresh=0.006, n=5, Accuracy: 75.00%\n",
            "17\n",
            "Thresh=0.007, n=5, Accuracy: 82.50%\n",
            "18\n",
            "Thresh=0.007, n=5, Accuracy: 92.50%\n",
            "19\n",
            "Thresh=0.007, n=5, Accuracy: 82.50%\n",
            "20\n",
            "Thresh=0.007, n=5, Accuracy: 90.00%\n",
            "21\n",
            "Thresh=0.006, n=5, Accuracy: 90.00%\n",
            "22\n",
            "Thresh=0.007, n=5, Accuracy: 80.00%\n",
            "23\n",
            "Thresh=0.006, n=5, Accuracy: 42.50%\n",
            "24\n",
            "Thresh=0.007, n=5, Accuracy: 85.00%\n",
            "25\n",
            "Thresh=0.007, n=5, Accuracy: 80.00%\n",
            "26\n",
            "Thresh=0.007, n=5, Accuracy: 57.50%\n",
            "27\n",
            "Thresh=0.007, n=5, Accuracy: 70.00%\n",
            "28\n",
            "Thresh=0.007, n=5, Accuracy: 52.50%\n",
            "29\n",
            "Thresh=0.007, n=5, Accuracy: 72.50%\n",
            "30\n",
            "Thresh=0.007, n=5, Accuracy: 85.00%\n",
            "31\n",
            "Thresh=0.007, n=5, Accuracy: 67.50%\n",
            "32\n",
            "Thresh=0.007, n=5, Accuracy: 90.00%\n"
          ],
          "name": "stdout"
        }
      ]
    },
    {
      "cell_type": "code",
      "metadata": {
        "id": "1Rfqtnvw5yD-",
        "colab_type": "code",
        "colab": {
          "base_uri": "https://localhost:8080/",
          "height": 97
        },
        "outputId": "6ca8e631-9835-4851-9f01-f453f6d7c006"
      },
      "source": [
        "prediction1=np.concatenate(prediction1).ravel().tolist()\n",
        "actual1=np.concatenate(actual1).ravel().tolist()\n",
        "print(confusion_matrix(actual1, prediction1)) \n",
        "print(\"mean= \",np.mean(results1))\n",
        "print(\"standard deviation= \",np.std(results1))  \n",
        "print(\"ACCURACY=\", accuracy_score(actual1, prediction1)*100) "
      ],
      "execution_count": null,
      "outputs": [
        {
          "output_type": "stream",
          "text": [
            "[[  3 301]\n",
            " [  7 969]]\n",
            "mean=  75.9375\n",
            "standard deviation=  13.901860262209516\n",
            "ACCURACY= 75.9375\n"
          ],
          "name": "stdout"
        }
      ]
    },
    {
      "cell_type": "code",
      "metadata": {
        "id": "S_iHev985yBe",
        "colab_type": "code",
        "colab": {}
      },
      "source": [
        "import numpy as np\n",
        "from sklearn.model_selection import LeaveOneGroupOut\n",
        "\n",
        "file_x = 'data/32/features_raw.dat'\n",
        "file_y = 'data/label_class_2_3.5.dat'\n",
        "y = np.genfromtxt(file_y, delimiter=' ')\n",
        "X = np.genfromtxt(file_x, delimiter=' ')"
      ],
      "execution_count": null,
      "outputs": []
    },
    {
      "cell_type": "code",
      "metadata": {
        "id": "Usiay3AQ5x7s",
        "colab_type": "code",
        "colab": {
          "base_uri": "https://localhost:8080/",
          "height": 1000
        },
        "outputId": "2d5f40d8-1d1f-4424-cb8d-bae4d147f1d0"
      },
      "source": [
        "def f(xx):\n",
        "      try:\n",
        "        if float(xx)<0.05:\n",
        "          return xx\n",
        "      except:\n",
        "        return NaN\n",
        "\n",
        "loo = LeaveOneGroupOut()\n",
        "prediction2=[]\n",
        "actual2=[]\n",
        "results2=[]\n",
        "count=1\n",
        "for train_index, test_index in loo.split(X,y,grp):\n",
        "  \n",
        "      print(count)\n",
        "      X_train, X_test = X[train_index], X[test_index]\n",
        "      y_train, y_test = y[train_index], y[test_index]\n",
        "\n",
        "      #Feature Scaling\n",
        "      from sklearn.preprocessing import StandardScaler\n",
        "      sc = StandardScaler()\n",
        "      X_train = sc.fit_transform(X_train)\n",
        "      X_test = sc.transform(X_test)\n",
        "\n",
        "      X_train_pd=pd.DataFrame(X_train)\n",
        "      X_test_pd=pd.DataFrame(X_test)\n",
        "      from sklearn.feature_selection import SelectKBest, f_classif\n",
        "      X_indices = np.arange(X.shape[-1])\n",
        "      selector = SelectKBest(f_classif)\n",
        "      selector.fit(X_train, y_train)\n",
        "      #dell = -np.log10(selector.pvalues_)\n",
        "      #dell /= dell.max()\n",
        "      dell1=pd.DataFrame(selector.pvalues_,columns=None)\n",
        "      dell1[0]=dell1[0].apply(f)\n",
        "      l=dell1.dropna().to_dict()[0].keys()\n",
        "      X_train_pd=X_train_pd[l]\n",
        "      X_test_pd=X_test_pd[l]\n",
        "      X_train=X_train_pd.to_numpy()\n",
        "      X_test=X_test_pd.to_numpy()\n",
        "        \n",
        "      # SVM Classifier\n",
        "      model = XGBClassifier()\n",
        "      model.fit(X_train, y_train)\n",
        "      thresholds = sort(model.feature_importances_)\n",
        "      selection = SelectFromModel(model, threshold=thresholds[-5], prefit=True)\n",
        "      select_X_train = selection.transform(X_train)\n",
        "      selection_model = SVC(kernel = 'rbf', random_state = 5)\n",
        "      selection_model.fit(select_X_train, y_train)\n",
        "      select_X_test = selection.transform(X_test)\n",
        "      predictions = selection_model.predict(select_X_test)\n",
        "      accuracy = accuracy_score(y_test, predictions)\n",
        "      print(\"Thresh=%.3f, n=%d, Accuracy: %.2f%%\" % (thresholds[-5], select_X_train.shape[1], accuracy*100.0))\n",
        "      results2.append(accuracy*100.0)\n",
        "      prediction2.append(predictions)\n",
        "      actual2.append(y_test)   \n",
        "      count+=1"
      ],
      "execution_count": null,
      "outputs": [
        {
          "output_type": "stream",
          "text": [
            "1\n",
            "Thresh=0.009, n=5, Accuracy: 75.00%\n",
            "2\n",
            "Thresh=0.009, n=5, Accuracy: 75.00%\n",
            "3\n",
            "Thresh=0.008, n=5, Accuracy: 80.00%\n",
            "4\n",
            "Thresh=0.010, n=5, Accuracy: 55.00%\n",
            "5\n",
            "Thresh=0.009, n=5, Accuracy: 60.00%\n",
            "6\n",
            "Thresh=0.009, n=5, Accuracy: 82.50%\n",
            "7\n",
            "Thresh=0.008, n=5, Accuracy: 60.00%\n",
            "8\n",
            "Thresh=0.008, n=5, Accuracy: 77.50%\n",
            "9\n",
            "Thresh=0.009, n=5, Accuracy: 77.50%\n",
            "10\n",
            "Thresh=0.009, n=5, Accuracy: 85.00%\n",
            "11\n",
            "Thresh=0.009, n=5, Accuracy: 82.50%\n",
            "12\n",
            "Thresh=0.008, n=5, Accuracy: 57.50%\n",
            "13\n",
            "Thresh=0.009, n=5, Accuracy: 62.50%\n",
            "14\n",
            "Thresh=0.009, n=5, Accuracy: 72.50%\n",
            "15\n",
            "Thresh=0.008, n=5, Accuracy: 70.00%\n",
            "16\n",
            "Thresh=0.008, n=5, Accuracy: 65.00%\n",
            "17\n",
            "Thresh=0.007, n=5, Accuracy: 100.00%\n",
            "18\n",
            "Thresh=0.009, n=5, Accuracy: 97.50%\n",
            "19\n",
            "Thresh=0.008, n=5, Accuracy: 77.50%\n",
            "20\n",
            "Thresh=0.008, n=5, Accuracy: 75.00%\n",
            "21\n",
            "Thresh=0.008, n=5, Accuracy: 80.00%\n",
            "22\n",
            "Thresh=0.008, n=5, Accuracy: 85.00%\n",
            "23\n",
            "Thresh=0.008, n=5, Accuracy: 97.50%\n",
            "24\n",
            "Thresh=0.009, n=5, Accuracy: 82.50%\n",
            "25\n",
            "Thresh=0.007, n=5, Accuracy: 97.50%\n",
            "26\n",
            "Thresh=0.008, n=5, Accuracy: 80.00%\n",
            "27\n",
            "Thresh=0.009, n=5, Accuracy: 100.00%\n",
            "28\n",
            "Thresh=0.009, n=5, Accuracy: 70.00%\n",
            "29\n",
            "Thresh=0.008, n=5, Accuracy: 67.50%\n",
            "30\n",
            "Thresh=0.008, n=5, Accuracy: 92.50%\n",
            "31\n",
            "Thresh=0.009, n=5, Accuracy: 62.50%\n",
            "32\n",
            "Thresh=0.009, n=5, Accuracy: 100.00%\n"
          ],
          "name": "stdout"
        }
      ]
    },
    {
      "cell_type": "code",
      "metadata": {
        "id": "buB-09eE6qxP",
        "colab_type": "code",
        "colab": {
          "base_uri": "https://localhost:8080/",
          "height": 97
        },
        "outputId": "75e798f9-edab-4daf-80b4-ea71bad1c2f9"
      },
      "source": [
        "prediction2=np.concatenate(prediction2).ravel().tolist()\n",
        "actual2=np.concatenate(actual2).ravel().tolist()\n",
        "print(confusion_matrix(actual2, prediction2)) \n",
        "print(\"mean= \",np.mean(results2))\n",
        "print(\"standard deviation= \",np.std(results2))  \n",
        "print(\"ACCURACY=\", accuracy_score(actual2, prediction2)*100) "
      ],
      "execution_count": null,
      "outputs": [
        {
          "output_type": "stream",
          "text": [
            "[[   0  279]\n",
            " [   0 1001]]\n",
            "mean=  78.203125\n",
            "standard deviation=  13.128487259938785\n",
            "ACCURACY= 78.203125\n"
          ],
          "name": "stdout"
        }
      ]
    },
    {
      "cell_type": "code",
      "metadata": {
        "id": "75rLhXal69jn",
        "colab_type": "code",
        "colab": {}
      },
      "source": [
        "import numpy as np\n",
        "from sklearn.model_selection import LeaveOneGroupOut\n",
        "\n",
        "file_x = 'data/32/features_raw.dat'\n",
        "file_y = 'data/label_class_3_3.5.dat'\n",
        "y = np.genfromtxt(file_y, delimiter=' ')\n",
        "X = np.genfromtxt(file_x, delimiter=' ')"
      ],
      "execution_count": null,
      "outputs": []
    },
    {
      "cell_type": "code",
      "metadata": {
        "id": "QubbZiAj7CZ8",
        "colab_type": "code",
        "colab": {
          "base_uri": "https://localhost:8080/",
          "height": 1000
        },
        "outputId": "23648d82-0a67-4cb4-aa66-47ba69cf3362"
      },
      "source": [
        "def f(xx):\n",
        "      try:\n",
        "        if float(xx)<0.05:\n",
        "          return xx\n",
        "      except:\n",
        "        return NaN\n",
        "\n",
        "loo = LeaveOneGroupOut()\n",
        "prediction3=[]\n",
        "actual3=[]\n",
        "results3=[]\n",
        "count=1\n",
        "for train_index, test_index in loo.split(X,y,grp):\n",
        "  \n",
        "      print(count)\n",
        "      X_train, X_test = X[train_index], X[test_index]\n",
        "      y_train, y_test = y[train_index], y[test_index]\n",
        "\n",
        "      #Feature Scaling\n",
        "      from sklearn.preprocessing import StandardScaler\n",
        "      sc = StandardScaler()\n",
        "      X_train = sc.fit_transform(X_train)\n",
        "      X_test = sc.transform(X_test)\n",
        "\n",
        "      X_train_pd=pd.DataFrame(X_train)\n",
        "      X_test_pd=pd.DataFrame(X_test)\n",
        "      from sklearn.feature_selection import SelectKBest, f_classif\n",
        "      X_indices = np.arange(X.shape[-1])\n",
        "      selector = SelectKBest(f_classif)\n",
        "      selector.fit(X_train, y_train)\n",
        "      #dell = -np.log10(selector.pvalues_)\n",
        "      #dell /= dell.max()\n",
        "      dell1=pd.DataFrame(selector.pvalues_,columns=None)\n",
        "      dell1[0]=dell1[0].apply(f)\n",
        "      l=dell1.dropna().to_dict()[0].keys()\n",
        "      X_train_pd=X_train_pd[l]\n",
        "      X_test_pd=X_test_pd[l]\n",
        "      X_train=X_train_pd.to_numpy()\n",
        "      X_test=X_test_pd.to_numpy()\n",
        "        \n",
        "      # SVM Classifier\n",
        "      model = XGBClassifier()\n",
        "      model.fit(X_train, y_train)\n",
        "      thresholds = sort(model.feature_importances_)\n",
        "      selection = SelectFromModel(model, threshold=thresholds[-5], prefit=True)\n",
        "      select_X_train = selection.transform(X_train)\n",
        "      selection_model = SVC(kernel = 'rbf', random_state = 5)\n",
        "      selection_model.fit(select_X_train, y_train)\n",
        "      select_X_test = selection.transform(X_test)\n",
        "      predictions = selection_model.predict(select_X_test)\n",
        "      accuracy = accuracy_score(y_test, predictions)\n",
        "      print(\"Thresh=%.3f, n=%d, Accuracy: %.2f%%\" % (thresholds[-5], select_X_train.shape[1], accuracy*100.0))\n",
        "      results3.append(accuracy*100.0)\n",
        "      prediction3.append(predictions)\n",
        "      actual3.append(y_test)   \n",
        "      count+=1"
      ],
      "execution_count": null,
      "outputs": [
        {
          "output_type": "stream",
          "text": [
            "1\n",
            "Thresh=0.007, n=5, Accuracy: 100.00%\n",
            "2\n",
            "Thresh=0.008, n=5, Accuracy: 70.00%\n",
            "3\n",
            "Thresh=0.007, n=5, Accuracy: 97.50%\n",
            "4\n",
            "Thresh=0.007, n=5, Accuracy: 67.50%\n",
            "5\n",
            "Thresh=0.007, n=5, Accuracy: 85.00%\n",
            "6\n",
            "Thresh=0.007, n=5, Accuracy: 85.00%\n",
            "7\n",
            "Thresh=0.007, n=5, Accuracy: 92.50%\n",
            "8\n",
            "Thresh=0.007, n=5, Accuracy: 90.00%\n",
            "9\n",
            "Thresh=0.007, n=5, Accuracy: 100.00%\n",
            "10\n",
            "Thresh=0.007, n=5, Accuracy: 87.50%\n",
            "11\n",
            "Thresh=0.007, n=5, Accuracy: 55.00%\n",
            "12\n",
            "Thresh=0.007, n=5, Accuracy: 65.00%\n",
            "13\n",
            "Thresh=0.008, n=5, Accuracy: 80.00%\n",
            "14\n",
            "Thresh=0.007, n=5, Accuracy: 80.00%\n",
            "15\n",
            "Thresh=0.007, n=5, Accuracy: 75.00%\n",
            "16\n",
            "Thresh=0.007, n=5, Accuracy: 57.50%\n",
            "17\n",
            "Thresh=0.007, n=5, Accuracy: 80.00%\n",
            "18\n",
            "Thresh=0.007, n=5, Accuracy: 92.50%\n",
            "19\n",
            "Thresh=0.007, n=5, Accuracy: 77.50%\n",
            "20\n",
            "Thresh=0.008, n=5, Accuracy: 82.50%\n",
            "21\n",
            "Thresh=0.007, n=5, Accuracy: 72.50%\n",
            "22\n",
            "Thresh=0.006, n=5, Accuracy: 62.50%\n",
            "23\n",
            "Thresh=0.007, n=5, Accuracy: 60.00%\n",
            "24\n",
            "Thresh=0.006, n=5, Accuracy: 82.50%\n",
            "25\n",
            "Thresh=0.007, n=5, Accuracy: 67.50%\n",
            "26\n",
            "Thresh=0.007, n=5, Accuracy: 80.00%\n",
            "27\n",
            "Thresh=0.007, n=5, Accuracy: 87.50%\n",
            "28\n",
            "Thresh=0.007, n=5, Accuracy: 67.50%\n",
            "29\n",
            "Thresh=0.007, n=5, Accuracy: 67.50%\n",
            "30\n",
            "Thresh=0.007, n=5, Accuracy: 60.00%\n",
            "31\n",
            "Thresh=0.007, n=5, Accuracy: 80.00%\n",
            "32\n",
            "Thresh=0.007, n=5, Accuracy: 65.00%\n"
          ],
          "name": "stdout"
        }
      ]
    },
    {
      "cell_type": "code",
      "metadata": {
        "id": "90OdlZ4K7N3i",
        "colab_type": "code",
        "colab": {
          "base_uri": "https://localhost:8080/",
          "height": 97
        },
        "outputId": "27f860e1-96c7-4d74-bed0-5f736a967aef"
      },
      "source": [
        "prediction3=np.concatenate(prediction3).ravel().tolist()\n",
        "actual3=np.concatenate(actual3).ravel().tolist()\n",
        "print(confusion_matrix(actual3, prediction3)) \n",
        "print(\"mean= \",np.mean(results3))\n",
        "print(\"standard deviation= \",np.std(results3))  \n",
        "print(\"ACCURACY=\", accuracy_score(actual3, prediction3)*100) "
      ],
      "execution_count": null,
      "outputs": [
        {
          "output_type": "stream",
          "text": [
            "[[  3 285]\n",
            " [  6 986]]\n",
            "mean=  77.265625\n",
            "standard deviation=  12.442985206909755\n",
            "ACCURACY= 77.265625\n"
          ],
          "name": "stdout"
        }
      ]
    },
    {
      "cell_type": "code",
      "metadata": {
        "id": "eohGVWr48He_",
        "colab_type": "code",
        "colab": {}
      },
      "source": [
        "results_final=[0]*32\n",
        "for i in range(32):\n",
        "  results_final[i]=(results[i]+results1[i]+results2[i]+results3[i])/4\n"
      ],
      "execution_count": null,
      "outputs": []
    },
    {
      "cell_type": "code",
      "metadata": {
        "id": "Nbk2JrVz8K22",
        "colab_type": "code",
        "colab": {}
      },
      "source": [
        "import matplotlib.pyplot as plt\n",
        "%matplotlib inline"
      ],
      "execution_count": null,
      "outputs": []
    },
    {
      "cell_type": "code",
      "metadata": {
        "id": "kir7uOtI8K6o",
        "colab_type": "code",
        "colab": {
          "base_uri": "https://localhost:8080/",
          "height": 654
        },
        "outputId": "ac298260-4bf8-480c-94d9-460d24fc82b2"
      },
      "source": [
        "plt.figure(figsize=(20,10))\n",
        "plt.plot([i for i in range(32)], results_final, color='g')\n",
        "plt.xlabel('Subject', fontsize=25)\n",
        "plt.ylabel('accuracy', fontsize=25)\n",
        "plt.title('Leave One Subject Out, XGboost, Threshold=3.5', fontsize=20)\n",
        "plt.xticks(fontsize=25)\n",
        "plt.yticks(fontsize=25)\n",
        "plt.show()"
      ],
      "execution_count": null,
      "outputs": [
        {
          "output_type": "display_data",
          "data": {
            "image/png": "[encoded data removed]",
            "text/plain": [
              "<Figure size 1440x720 with 1 Axes>"
            ]
          },
          "metadata": {
            "tags": [],
            "needs_background": "light"
          }
        }
      ]
    },
    {
      "cell_type": "code",
      "metadata": {
        "id": "lb93BI1LN2d9",
        "colab_type": "code",
        "colab": {}
      },
      "source": [
        ""
      ],
      "execution_count": null,
      "outputs": []
    }
  ]
}