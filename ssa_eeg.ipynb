{
  "nbformat": 4,
  "nbformat_minor": 0,
  "metadata": {
    "colab": {
      "name": "ssa eeg",
      "provenance": [],
      "collapsed_sections": [],
      "mount_file_id": "1cDLPpEOTS4ZD5mdj0U2ERgbU_68U7qUa",
      "authorship_tag": "ABX9TyNCtbw5NJBT/TGlkh9+NnBJ",
      "include_colab_link": true
    },
    "kernelspec": {
      "name": "python3",
      "display_name": "Python 3"
    }
  },
  "cells": [
    {
      "cell_type": "markdown",
      "metadata": {
        "id": "view-in-github",
        "colab_type": "text"
      },
      "source": [
        "<a href=\"https://colab.research.google.com/github/yuktimittal/Emotion-Classification-using-EEG-Brain-waves/blob/master/ssa_eeg.ipynb\" target=\"_parent\"><img src=\"https://colab.research.google.com/assets/colab-badge.svg\" alt=\"Open In Colab\"/></a>"
      ]
    },
    {
      "cell_type": "code",
      "metadata": {
        "id": "ogaqOtgGNl0k",
        "colab_type": "code",
        "colab": {}
      },
      "source": [
        "import numpy as np\n",
        "filex='/content/drive/My Drive/Colab Notebooks/data/32/features_raw.dat'\n",
        "x=np.genfromtxt(filex,delimiter=' ')"
      ],
      "execution_count": null,
      "outputs": []
    },
    {
      "cell_type": "code",
      "metadata": {
        "id": "EC_pYR_sOWkX",
        "colab_type": "code",
        "colab": {
          "base_uri": "https://localhost:8080/",
          "height": 168
        },
        "outputId": "b2172313-1ac9-4cc1-a078-4d1fe8cb18b1"
      },
      "source": [
        "!pip install pyts\n",
        "import numpy as np\n",
        "import matplotlib.pyplot as plt\n",
        "from pyts.decomposition import SingularSpectrumAnalysis\n",
        "%matplotlib inline\n",
        "# We decompose the time series into three subseries\n",
        "n_samples, n_timestamps = 1280, 8064\n",
        "window_size = 30\n",
        "groups = [np.arange(i, i + 10) for i in range(0, 21, 10)]\n",
        "\n",
        "import numpy as np\n",
        "filex='/content/drive/My Drive/Colab Notebooks/data/32/features_raw.dat'\n",
        "x=np.genfromtxt(filex,delimiter=' ')\n",
        "\n",
        "# Singular Spectrum Analysis\n",
        "ssa = SingularSpectrumAnalysis(window_size=30, groups=groups)\n",
        "X_ssa = ssa.fit_transform(x)\n",
        "\n",
        "# Show the results for the first time series and its subseries\n",
        "plt.figure(figsize=(16, 6))\n",
        "\n",
        "ax1 = plt.subplot(121)\n",
        "ax1.plot(X[0], 'o-', label='Original')\n",
        "ax1.legend(loc='best', fontsize=14)\n",
        "\n",
        "ax2 = plt.subplot(122)\n",
        "for i in range(len(groups)):\n",
        "    ax2.plot(X_ssa[0, i], 'o--', label='SSA {0}'.format(i + 1))\n",
        "ax2.legend(loc='best', fontsize=14)\n",
        "\n",
        "plt.suptitle('Singular Spectrum Analysis', fontsize=20)\n",
        "\n",
        "plt.tight_layout()\n",
        "plt.subplots_adjust(top=0.88)\n",
        "plt.show()\n"
      ],
      "execution_count": null,
      "outputs": [
        {
          "output_type": "stream",
          "text": [
            "Requirement already satisfied: pyts in /usr/local/lib/python3.6/dist-packages (0.11.0)\n",
            "Requirement already satisfied: joblib>=0.12 in /usr/local/lib/python3.6/dist-packages (from pyts) (0.15.1)\n",
            "Requirement already satisfied: scikit-learn>=0.22.1 in /usr/local/lib/python3.6/dist-packages (from pyts) (0.22.2.post1)\n",
            "Requirement already satisfied: numpy>=1.17.5 in /usr/local/lib/python3.6/dist-packages (from pyts) (1.18.5)\n",
            "Requirement already satisfied: scipy>=1.3.0 in /usr/local/lib/python3.6/dist-packages (from pyts) (1.4.1)\n",
            "Requirement already satisfied: numba>=0.48.0 in /usr/local/lib/python3.6/dist-packages (from pyts) (0.48.0)\n",
            "Requirement already satisfied: setuptools in /usr/local/lib/python3.6/dist-packages (from numba>=0.48.0->pyts) (47.3.1)\n",
            "Requirement already satisfied: llvmlite<0.32.0,>=0.31.0dev0 in /usr/local/lib/python3.6/dist-packages (from numba>=0.48.0->pyts) (0.31.0)\n",
            "ssa\n"
          ],
          "name": "stdout"
        }
      ]
    },
    {
      "cell_type": "code",
      "metadata": {
        "id": "9zmkjjpCOwnG",
        "colab_type": "code",
        "colab": {
          "base_uri": "https://localhost:8080/",
          "height": 238
        },
        "outputId": "0ea1435b-519e-4de1-e00c-bf327e11b83f"
      },
      "source": [
        "!pip install pyts"
      ],
      "execution_count": null,
      "outputs": [
        {
          "output_type": "stream",
          "text": [
            "Collecting pyts\n",
            "\u001b[?25l  Downloading https://files.pythonhosted.org/packages/b6/2b/1a62c0d32b40ee85daa8f6a6160828537b3d846c9fe93253b38846c6ec1f/pyts-0.11.0-py3-none-any.whl (2.5MB)\n",
            "\u001b[K     |████████████████████████████████| 2.5MB 2.7MB/s \n",
            "\u001b[?25hRequirement already satisfied: scikit-learn>=0.22.1 in /usr/local/lib/python3.6/dist-packages (from pyts) (0.22.2.post1)\n",
            "Requirement already satisfied: scipy>=1.3.0 in /usr/local/lib/python3.6/dist-packages (from pyts) (1.4.1)\n",
            "Requirement already satisfied: joblib>=0.12 in /usr/local/lib/python3.6/dist-packages (from pyts) (0.15.1)\n",
            "Requirement already satisfied: numpy>=1.17.5 in /usr/local/lib/python3.6/dist-packages (from pyts) (1.18.5)\n",
            "Requirement already satisfied: numba>=0.48.0 in /usr/local/lib/python3.6/dist-packages (from pyts) (0.48.0)\n",
            "Requirement already satisfied: setuptools in /usr/local/lib/python3.6/dist-packages (from numba>=0.48.0->pyts) (47.3.1)\n",
            "Requirement already satisfied: llvmlite<0.32.0,>=0.31.0dev0 in /usr/local/lib/python3.6/dist-packages (from numba>=0.48.0->pyts) (0.31.0)\n",
            "Installing collected packages: pyts\n",
            "Successfully installed pyts-0.11.0\n"
          ],
          "name": "stdout"
        }
      ]
    },
    {
      "cell_type": "code",
      "metadata": {
        "id": "GHgu5sytO6VW",
        "colab_type": "code",
        "colab": {}
      },
      "source": [
        ""
      ],
      "execution_count": null,
      "outputs": []
    }
  ]
}