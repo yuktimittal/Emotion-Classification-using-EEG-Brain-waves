{
  "nbformat": 4,
  "nbformat_minor": 0,
  "metadata": {
    "colab": {
      "name": "convertData32.py",
      "provenance": [],
      "include_colab_link": true
    },
    "kernelspec": {
      "name": "python3",
      "display_name": "Python 3"
    }
  },
  "cells": [
    {
      "cell_type": "markdown",
      "metadata": {
        "id": "view-in-github",
        "colab_type": "text"
      },
      "source": [
        "<a href=\"https://colab.research.google.com/github/yuktimittal/Emotion-Classification-using-EEG-Brain-waves/blob/master/32_channel.ipynb\" target=\"_parent\"><img src=\"https://colab.research.google.com/assets/colab-badge.svg\" alt=\"Open In Colab\"/></a>"
      ]
    },
    {
      "cell_type": "code",
      "metadata": {
        "id": "cFKUz1cXUm2X",
        "colab_type": "code",
        "colab": {
          "base_uri": "https://localhost:8080/",
          "height": 638
        },
        "outputId": "4030298a-de36-44dd-f984-ca9f8295d927"
      },
      "source": [
        "import pickle\n",
        "\n",
        "nLabel, nTrial, nUser, nChannel, nTime  = 4, 40, 32, 32, 8064\n",
        "no_of_users=32\n",
        "def convertData():\n",
        "    print(\"Program started\"+\"\\n\")\n",
        "    fout_data = open(\"data/32/features_raw.dat\",'w')\n",
        "    fout_labels0 = open(\"data/32/labels_0.dat\",'w')\n",
        "    fout_labels1 = open(\"data/32/labels_1.dat\",'w')\n",
        "    fout_labels2 = open(\"data/32/labels_2.dat\",'w')\n",
        "    fout_labels3 = open(\"data/32/labels_3.dat\",'w')\n",
        "    for i in range(no_of_users):  #nUser #4, 40, 32, 40, 8064 4 labels, 40 sample for each user, 32 such user, 40 electrode, 8064*40 features\n",
        "        if(i%1 == 0):\n",
        "            if i < 10:\n",
        "                name = '%0*d' % (2,i+1)\n",
        "            else:\n",
        "                name = i+1\n",
        "        fname = \"data/32/s\"+str(name)+\".dat\"     \n",
        "        f = open(fname, 'rb')                 #Read the file in Binary mode\n",
        "        x = pickle.load(f, encoding='latin1')\n",
        "        print(fname)                          \n",
        "    \t\n",
        "        for tr in range(nTrial):\n",
        "            if(tr%1 == 0):\n",
        "                for dat in range(nTime):\n",
        "                    if(dat%32 == 0):\n",
        "                        for ch in range(nChannel):\n",
        "                            fout_data.write(str(x['data'][tr][ch][dat]) + \" \");\n",
        "                fout_labels0.write(str(x['labels'][tr][0]) + \"\\n\");\n",
        "                fout_labels1.write(str(x['labels'][tr][1]) + \"\\n\");\n",
        "                fout_labels2.write(str(x['labels'][tr][2]) + \"\\n\");\n",
        "                fout_labels3.write(str(x['labels'][tr][3]) + \"\\n\");\n",
        "                fout_data.write(\"\\n\");\n",
        "    fout_labels0.close()\n",
        "    fout_labels1.close()\n",
        "    fout_labels2.close()\n",
        "    fout_labels3.close()\n",
        "    fout_data.close()\n",
        "    print(\"\\n\"+\"Print Successful\")\n",
        "\n",
        "if __name__ == '__main__':\n",
        "    from google.colab import drive\n",
        "    drive.mount('/content/drive')\n",
        "    import os\n",
        "    os.chdir(r'/content/drive/My Drive/Colab Notebooks')\n",
        "    convertData()"
      ],
      "execution_count": null,
      "outputs": [
        {
          "output_type": "stream",
          "text": [
            "Drive already mounted at /content/drive; to attempt to forcibly remount, call drive.mount(\"/content/drive\", force_remount=True).\n",
            "Program started\n",
            "\n",
            "/content/drive/My Drive/Colab Notebooks/data/32/s01.dat\n",
            "/content/drive/My Drive/Colab Notebooks/data/32/s02.dat\n",
            "/content/drive/My Drive/Colab Notebooks/data/32/s03.dat\n",
            "/content/drive/My Drive/Colab Notebooks/data/32/s04.dat\n",
            "/content/drive/My Drive/Colab Notebooks/data/32/s05.dat\n",
            "/content/drive/My Drive/Colab Notebooks/data/32/s06.dat\n",
            "/content/drive/My Drive/Colab Notebooks/data/32/s07.dat\n",
            "/content/drive/My Drive/Colab Notebooks/data/32/s08.dat\n",
            "/content/drive/My Drive/Colab Notebooks/data/32/s09.dat\n",
            "/content/drive/My Drive/Colab Notebooks/data/32/s10.dat\n",
            "/content/drive/My Drive/Colab Notebooks/data/32/s11.dat\n",
            "/content/drive/My Drive/Colab Notebooks/data/32/s12.dat\n",
            "/content/drive/My Drive/Colab Notebooks/data/32/s13.dat\n",
            "/content/drive/My Drive/Colab Notebooks/data/32/s14.dat\n",
            "/content/drive/My Drive/Colab Notebooks/data/32/s15.dat\n",
            "/content/drive/My Drive/Colab Notebooks/data/32/s16.dat\n",
            "/content/drive/My Drive/Colab Notebooks/data/32/s17.dat\n",
            "/content/drive/My Drive/Colab Notebooks/data/32/s18.dat\n",
            "/content/drive/My Drive/Colab Notebooks/data/32/s19.dat\n",
            "/content/drive/My Drive/Colab Notebooks/data/32/s20.dat\n",
            "/content/drive/My Drive/Colab Notebooks/data/32/s21.dat\n",
            "/content/drive/My Drive/Colab Notebooks/data/32/s22.dat\n",
            "/content/drive/My Drive/Colab Notebooks/data/32/s23.dat\n",
            "/content/drive/My Drive/Colab Notebooks/data/32/s24.dat\n",
            "/content/drive/My Drive/Colab Notebooks/data/32/s25.dat\n",
            "/content/drive/My Drive/Colab Notebooks/data/32/s26.dat\n",
            "/content/drive/My Drive/Colab Notebooks/data/32/s27.dat\n",
            "/content/drive/My Drive/Colab Notebooks/data/32/s28.dat\n",
            "/content/drive/My Drive/Colab Notebooks/data/32/s29.dat\n",
            "/content/drive/My Drive/Colab Notebooks/data/32/s30.dat\n",
            "/content/drive/My Drive/Colab Notebooks/data/32/s31.dat\n",
            "/content/drive/My Drive/Colab Notebooks/data/32/s32.dat\n",
            "\n",
            "Print Successful\n"
          ],
          "name": "stdout"
        }
      ]
    },
    {
      "cell_type": "code",
      "metadata": {
        "id": "_7cgD1cfX7Sn",
        "colab_type": "code",
        "colab": {}
      },
      "source": [
        ""
      ],
      "execution_count": null,
      "outputs": []
    },
    {
      "cell_type": "code",
      "metadata": {
        "id": "c8K2Qj0WSnTO",
        "colab_type": "code",
        "colab": {}
      },
      "source": [
        ""
      ],
      "execution_count": null,
      "outputs": []
    }
  ]
}