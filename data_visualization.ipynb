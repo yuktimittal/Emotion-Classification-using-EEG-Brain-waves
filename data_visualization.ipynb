{
  "nbformat": 4,
  "nbformat_minor": 0,
  "metadata": {
    "colab": {
      "name": "data_visualization.ipynb",
      "provenance": [],
      "collapsed_sections": [],
      "include_colab_link": true
    },
    "kernelspec": {
      "name": "python3",
      "display_name": "Python 3"
    }
  },
  "cells": [
    {
      "cell_type": "markdown",
      "metadata": {
        "id": "view-in-github",
        "colab_type": "text"
      },
      "source": [
        "<a href=\"https://colab.research.google.com/github/yuktimittal/Emotion-Classification-using-EEG-Brain-waves/blob/master/data_visualization.ipynb\" target=\"_parent\"><img src=\"https://colab.research.google.com/assets/colab-badge.svg\" alt=\"Open In Colab\"/></a>"
      ]
    },
    {
      "cell_type": "code",
      "metadata": {
        "id": "dQeHVNT64g-S",
        "colab_type": "code",
        "colab": {
          "base_uri": "https://localhost:8080/",
          "height": 121
        },
        "outputId": "4f33bc41-b2f6-437e-d6fc-902579646f16"
      },
      "source": [
        "from google.colab import drive\n",
        "drive.mount('/content/drive')\n",
        "import os\n",
        "os.chdir(r'/content/drive/My Drive/Colab Notebooks')"
      ],
      "execution_count": null,
      "outputs": [
        {
          "output_type": "stream",
          "text": [
            "Go to this URL in a browser: https://accounts.google.com/o/oauth2/auth?client_id=947318989803-6bn6qk8qdgf4n4g3pfee6491hc0brc4i.apps.googleusercontent.com&redirect_uri=urn%3aietf%3awg%3aoauth%3a2.0%3aoob&response_type=code&scope=email%20https%3a%2f%2fwww.googleapis.com%2fauth%2fdocs.test%20https%3a%2f%2fwww.googleapis.com%2fauth%2fdrive%20https%3a%2f%2fwww.googleapis.com%2fauth%2fdrive.photos.readonly%20https%3a%2f%2fwww.googleapis.com%2fauth%2fpeopleapi.readonly\n",
            "\n",
            "Enter your authorization code:\n",
            "··········\n",
            "Mounted at /content/drive\n"
          ],
          "name": "stdout"
        }
      ]
    },
    {
      "cell_type": "code",
      "metadata": {
        "id": "0cPpcHT4S_0_",
        "colab_type": "code",
        "colab": {}
      },
      "source": [
        "import numpy as np\n",
        "from sklearn.model_selection import train_test_split\n",
        "from sklearn.preprocessing import StandardScaler"
      ],
      "execution_count": null,
      "outputs": []
    },
    {
      "cell_type": "code",
      "metadata": {
        "id": "KzppAbM_TUwo",
        "colab_type": "code",
        "colab": {}
      },
      "source": [
        "file_x = 'data/32/features_raw.dat'\n",
        "X = np.genfromtxt(file_x, delimiter=' ')\n",
        "file_y = \"data/label_class_0_3.5.dat\"\n",
        "y = np.genfromtxt(file_y, delimiter=' ')\n",
        "X_train, X_test, y_train, y_test = train_test_split(X, y, test_size=0.25, random_state=42)\n",
        "      \n",
        "# Feature Scaling\n",
        "sc = StandardScaler()\n",
        "X_train = sc.fit_transform(X_train)\n",
        "X_test = sc.transform(X_test)"
      ],
      "execution_count": null,
      "outputs": []
    },
    {
      "cell_type": "code",
      "metadata": {
        "id": "BBKe9PoCU09J",
        "colab_type": "code",
        "colab": {}
      },
      "source": [
        "import pandas as pd"
      ],
      "execution_count": null,
      "outputs": []
    },
    {
      "cell_type": "code",
      "metadata": {
        "id": "2cpNDm6ll7xa",
        "colab_type": "code",
        "colab": {
          "base_uri": "https://localhost:8080/",
          "height": 70
        },
        "outputId": "d96e0517-47c2-4e7b-d814-bfa2882497c5"
      },
      "source": [
        "import matplotlib.pyplot as plt\n",
        "import pandas as pd\n",
        "import numpy as np\n",
        "import seaborn as sns\n",
        "%matplotlib inline"
      ],
      "execution_count": null,
      "outputs": [
        {
          "output_type": "stream",
          "text": [
            "/usr/local/lib/python3.6/dist-packages/statsmodels/tools/_testing.py:19: FutureWarning: pandas.util.testing is deprecated. Use the functions in the public API at pandas.testing instead.\n",
            "  import pandas.util.testing as tm\n"
          ],
          "name": "stderr"
        }
      ]
    },
    {
      "cell_type": "code",
      "metadata": {
        "id": "86ZrZN9rAEfg",
        "colab_type": "code",
        "colab": {}
      },
      "source": [
        "X_train_pd=pd.DataFrame(X_train)\n",
        "X_test_pd=pd.DataFrame(X_test)"
      ],
      "execution_count": null,
      "outputs": []
    },
    {
      "cell_type": "code",
      "metadata": {
        "id": "mgzG_cR-9YTF",
        "colab_type": "code",
        "colab": {}
      },
      "source": [
        "def f(xx):\n",
        "      try:\n",
        "        if float(xx)<0.05:\n",
        "          return xx\n",
        "      except:\n",
        "        return NaN\n",
        "        \n",
        "from sklearn.feature_selection import SelectKBest, f_classif\n",
        "X_indices = np.arange(X.shape[-1])\n",
        "selector = SelectKBest(f_classif)\n",
        "selector.fit(X_train, y_train)\n",
        "dell1=pd.DataFrame(selector.pvalues_,columns=None)\n",
        "dell1[0]=dell1[0].apply(f)\n",
        "l=dell1.dropna().to_dict()[0].keys()\n",
        "X_train_pd=X_train_pd[l]\n",
        "X_test_pd=X_test_pd[l]\n",
        "X_train=X_train_pd.to_numpy()\n",
        "X_test=X_test_pd.to_numpy()"
      ],
      "execution_count": null,
      "outputs": []
    },
    {
      "cell_type": "code",
      "metadata": {
        "id": "Z3SwI-M2APKX",
        "colab_type": "code",
        "colab": {
          "base_uri": "https://localhost:8080/",
          "height": 34
        },
        "outputId": "64340051-4d30-4c4c-cead-373a2fee3f75"
      },
      "source": [
        "X_train.shape"
      ],
      "execution_count": null,
      "outputs": [
        {
          "output_type": "execute_result",
          "data": {
            "text/plain": [
              "(960, 572)"
            ]
          },
          "metadata": {
            "tags": []
          },
          "execution_count": 8
        }
      ]
    },
    {
      "cell_type": "code",
      "metadata": {
        "id": "KLEh9uZMA3LN",
        "colab_type": "code",
        "colab": {}
      },
      "source": [
        "from xgboost import XGBClassifier\n",
        "from sklearn.feature_selection import SelectFromModel\n",
        "model = XGBClassifier()\n",
        "model.fit(X_train, y_train)\n",
        "thresholds = sorted(model.feature_importances_)\n",
        "selection = SelectFromModel(model, threshold=thresholds[-3], prefit=True)\n",
        "select_X_train = selection.transform(X_train)\n",
        "select_X_test = selection.transform(X_test)"
      ],
      "execution_count": null,
      "outputs": []
    },
    {
      "cell_type": "code",
      "metadata": {
        "id": "knrGzjlVBI5X",
        "colab_type": "code",
        "colab": {
          "base_uri": "https://localhost:8080/",
          "height": 34
        },
        "outputId": "d708052e-408a-4738-baf4-23b8f14396fe"
      },
      "source": [
        "select_X_train.shape"
      ],
      "execution_count": null,
      "outputs": [
        {
          "output_type": "execute_result",
          "data": {
            "text/plain": [
              "(960, 3)"
            ]
          },
          "metadata": {
            "tags": []
          },
          "execution_count": 10
        }
      ]
    },
    {
      "cell_type": "code",
      "metadata": {
        "id": "N4vNk8L2_GPT",
        "colab_type": "code",
        "colab": {
          "base_uri": "https://localhost:8080/",
          "height": 50
        },
        "outputId": "59be13dd-bbdf-4ab6-8e80-8ab845b80063"
      },
      "source": [
        "from sklearn.decomposition import PCA\n",
        "pca = PCA(n_components=2)\n",
        "pca.fit(select_X_train)"
      ],
      "execution_count": null,
      "outputs": [
        {
          "output_type": "execute_result",
          "data": {
            "text/plain": [
              "PCA(copy=True, iterated_power='auto', n_components=2, random_state=None,\n",
              "    svd_solver='auto', tol=0.0, whiten=False)"
            ]
          },
          "metadata": {
            "tags": []
          },
          "execution_count": 11
        }
      ]
    },
    {
      "cell_type": "code",
      "metadata": {
        "id": "p2WAhQJ1_Gea",
        "colab_type": "code",
        "colab": {
          "base_uri": "https://localhost:8080/",
          "height": 34
        },
        "outputId": "5182846b-30a8-42ac-a9fe-39b9ba6d8199"
      },
      "source": [
        "x_pca = pca.transform(select_X_train)\n",
        "x_pca.shape"
      ],
      "execution_count": null,
      "outputs": [
        {
          "output_type": "execute_result",
          "data": {
            "text/plain": [
              "(960, 2)"
            ]
          },
          "metadata": {
            "tags": []
          },
          "execution_count": 12
        }
      ]
    },
    {
      "cell_type": "code",
      "metadata": {
        "id": "0z_2VM42_duO",
        "colab_type": "code",
        "colab": {
          "base_uri": "https://localhost:8080/",
          "height": 402
        },
        "outputId": "6fa1f4b3-5271-4ceb-d92e-678540889b82"
      },
      "source": [
        "X_train_pd=pd.DataFrame(select_X_train)\n",
        "X_train_pd"
      ],
      "execution_count": null,
      "outputs": [
        {
          "output_type": "execute_result",
          "data": {
            "text/html": [
              "<div>\n",
              "<style scoped>\n",
              "    .dataframe tbody tr th:only-of-type {\n",
              "        vertical-align: middle;\n",
              "    }\n",
              "\n",
              "    .dataframe tbody tr th {\n",
              "        vertical-align: top;\n",
              "    }\n",
              "\n",
              "    .dataframe thead th {\n",
              "        text-align: right;\n",
              "    }\n",
              "</style>\n",
              "<table border=\"1\" class=\"dataframe\">\n",
              "  <thead>\n",
              "    <tr style=\"text-align: right;\">\n",
              "      <th></th>\n",
              "      <th>0</th>\n",
              "      <th>1</th>\n",
              "      <th>2</th>\n",
              "    </tr>\n",
              "  </thead>\n",
              "  <tbody>\n",
              "    <tr>\n",
              "      <th>0</th>\n",
              "      <td>0.214453</td>\n",
              "      <td>0.001860</td>\n",
              "      <td>0.427997</td>\n",
              "    </tr>\n",
              "    <tr>\n",
              "      <th>1</th>\n",
              "      <td>0.280996</td>\n",
              "      <td>0.361403</td>\n",
              "      <td>-3.333582</td>\n",
              "    </tr>\n",
              "    <tr>\n",
              "      <th>2</th>\n",
              "      <td>0.100031</td>\n",
              "      <td>-0.436654</td>\n",
              "      <td>0.062243</td>\n",
              "    </tr>\n",
              "    <tr>\n",
              "      <th>3</th>\n",
              "      <td>0.054259</td>\n",
              "      <td>-1.238320</td>\n",
              "      <td>-0.258692</td>\n",
              "    </tr>\n",
              "    <tr>\n",
              "      <th>4</th>\n",
              "      <td>0.174929</td>\n",
              "      <td>-0.032711</td>\n",
              "      <td>-0.306521</td>\n",
              "    </tr>\n",
              "    <tr>\n",
              "      <th>...</th>\n",
              "      <td>...</td>\n",
              "      <td>...</td>\n",
              "      <td>...</td>\n",
              "    </tr>\n",
              "    <tr>\n",
              "      <th>955</th>\n",
              "      <td>0.183025</td>\n",
              "      <td>0.027771</td>\n",
              "      <td>-0.360123</td>\n",
              "    </tr>\n",
              "    <tr>\n",
              "      <th>956</th>\n",
              "      <td>0.082024</td>\n",
              "      <td>0.120004</td>\n",
              "      <td>0.010214</td>\n",
              "    </tr>\n",
              "    <tr>\n",
              "      <th>957</th>\n",
              "      <td>0.263082</td>\n",
              "      <td>0.054483</td>\n",
              "      <td>0.250658</td>\n",
              "    </tr>\n",
              "    <tr>\n",
              "      <th>958</th>\n",
              "      <td>-3.047889</td>\n",
              "      <td>7.191616</td>\n",
              "      <td>-6.330232</td>\n",
              "    </tr>\n",
              "    <tr>\n",
              "      <th>959</th>\n",
              "      <td>0.058769</td>\n",
              "      <td>-0.381015</td>\n",
              "      <td>0.013072</td>\n",
              "    </tr>\n",
              "  </tbody>\n",
              "</table>\n",
              "<p>960 rows × 3 columns</p>\n",
              "</div>"
            ],
            "text/plain": [
              "            0         1         2\n",
              "0    0.214453  0.001860  0.427997\n",
              "1    0.280996  0.361403 -3.333582\n",
              "2    0.100031 -0.436654  0.062243\n",
              "3    0.054259 -1.238320 -0.258692\n",
              "4    0.174929 -0.032711 -0.306521\n",
              "..        ...       ...       ...\n",
              "955  0.183025  0.027771 -0.360123\n",
              "956  0.082024  0.120004  0.010214\n",
              "957  0.263082  0.054483  0.250658\n",
              "958 -3.047889  7.191616 -6.330232\n",
              "959  0.058769 -0.381015  0.013072\n",
              "\n",
              "[960 rows x 3 columns]"
            ]
          },
          "metadata": {
            "tags": []
          },
          "execution_count": 14
        }
      ]
    },
    {
      "cell_type": "code",
      "metadata": {
        "id": "ccaQtZ6LWCtA",
        "colab_type": "code",
        "colab": {}
      },
      "source": [
        "from xgboost import XGBClassifier\n",
        "from sklearn.feature_selection import SelectFromModel\n",
        "model = XGBClassifier()\n",
        "model.fit(X_train, y_train)\n",
        "thresholds = sorted(model.feature_importances_)\n",
        "selection = SelectFromModel(model, threshold=thresholds[-20], prefit=True)\n",
        "select_X_train = selection.transform(X_train)\n",
        "select_X_test = selection.transform(X_test)"
      ],
      "execution_count": null,
      "outputs": []
    },
    {
      "cell_type": "code",
      "metadata": {
        "id": "8obJp7WhWIqi",
        "colab_type": "code",
        "colab": {
          "base_uri": "https://localhost:8080/",
          "height": 34
        },
        "outputId": "96ceb81e-290d-442d-f49e-d67315b0eb33"
      },
      "source": [
        "select_X_train.shape"
      ],
      "execution_count": null,
      "outputs": [
        {
          "output_type": "execute_result",
          "data": {
            "text/plain": [
              "(960, 20)"
            ]
          },
          "metadata": {
            "tags": []
          },
          "execution_count": 16
        }
      ]
    },
    {
      "cell_type": "code",
      "metadata": {
        "id": "cMj2Ld6gWgx1",
        "colab_type": "code",
        "colab": {
          "base_uri": "https://localhost:8080/",
          "height": 50
        },
        "outputId": "0adf885f-188b-41bd-9fab-aae0a10c8c8e"
      },
      "source": [
        "from sklearn.decomposition import PCA\n",
        "pca = PCA(n_components=2)\n",
        "pca.fit(select_X_train)"
      ],
      "execution_count": null,
      "outputs": [
        {
          "output_type": "execute_result",
          "data": {
            "text/plain": [
              "PCA(copy=True, iterated_power='auto', n_components=2, random_state=None,\n",
              "    svd_solver='auto', tol=0.0, whiten=False)"
            ]
          },
          "metadata": {
            "tags": []
          },
          "execution_count": 19
        }
      ]
    },
    {
      "cell_type": "code",
      "metadata": {
        "id": "NG1LwGXLWkKs",
        "colab_type": "code",
        "colab": {
          "base_uri": "https://localhost:8080/",
          "height": 34
        },
        "outputId": "e2d3e29c-1dc0-4805-fa86-400415a6c3f7"
      },
      "source": [
        "x_pca = pca.transform(select_X_train)\n",
        "x_pca.shape"
      ],
      "execution_count": null,
      "outputs": [
        {
          "output_type": "execute_result",
          "data": {
            "text/plain": [
              "(960, 2)"
            ]
          },
          "metadata": {
            "tags": []
          },
          "execution_count": 20
        }
      ]
    },
    {
      "cell_type": "code",
      "metadata": {
        "id": "sFDLOOUaWSvO",
        "colab_type": "code",
        "colab": {
          "base_uri": "https://localhost:8080/",
          "height": 422
        },
        "outputId": "d609c912-2d87-4133-a68c-d3b82437af3e"
      },
      "source": [
        "X_train_pd=pd.DataFrame(select_X_train)\n",
        "X_train_pd"
      ],
      "execution_count": null,
      "outputs": [
        {
          "output_type": "execute_result",
          "data": {
            "text/html": [
              "<div>\n",
              "<style scoped>\n",
              "    .dataframe tbody tr th:only-of-type {\n",
              "        vertical-align: middle;\n",
              "    }\n",
              "\n",
              "    .dataframe tbody tr th {\n",
              "        vertical-align: top;\n",
              "    }\n",
              "\n",
              "    .dataframe thead th {\n",
              "        text-align: right;\n",
              "    }\n",
              "</style>\n",
              "<table border=\"1\" class=\"dataframe\">\n",
              "  <thead>\n",
              "    <tr style=\"text-align: right;\">\n",
              "      <th></th>\n",
              "      <th>0</th>\n",
              "      <th>1</th>\n",
              "      <th>2</th>\n",
              "      <th>3</th>\n",
              "      <th>4</th>\n",
              "      <th>5</th>\n",
              "      <th>6</th>\n",
              "      <th>7</th>\n",
              "      <th>8</th>\n",
              "      <th>9</th>\n",
              "      <th>10</th>\n",
              "      <th>11</th>\n",
              "      <th>12</th>\n",
              "      <th>13</th>\n",
              "      <th>14</th>\n",
              "      <th>15</th>\n",
              "      <th>16</th>\n",
              "      <th>17</th>\n",
              "      <th>18</th>\n",
              "      <th>19</th>\n",
              "    </tr>\n",
              "  </thead>\n",
              "  <tbody>\n",
              "    <tr>\n",
              "      <th>0</th>\n",
              "      <td>0.214453</td>\n",
              "      <td>0.276154</td>\n",
              "      <td>-0.431326</td>\n",
              "      <td>-0.272751</td>\n",
              "      <td>-0.046161</td>\n",
              "      <td>0.001860</td>\n",
              "      <td>0.240969</td>\n",
              "      <td>-0.735310</td>\n",
              "      <td>0.071958</td>\n",
              "      <td>0.427997</td>\n",
              "      <td>-0.138973</td>\n",
              "      <td>-0.222888</td>\n",
              "      <td>-3.601105</td>\n",
              "      <td>0.044886</td>\n",
              "      <td>0.151314</td>\n",
              "      <td>0.061576</td>\n",
              "      <td>-0.042936</td>\n",
              "      <td>-0.851545</td>\n",
              "      <td>0.206845</td>\n",
              "      <td>0.327275</td>\n",
              "    </tr>\n",
              "    <tr>\n",
              "      <th>1</th>\n",
              "      <td>0.280996</td>\n",
              "      <td>1.864495</td>\n",
              "      <td>3.016133</td>\n",
              "      <td>0.408672</td>\n",
              "      <td>-0.455289</td>\n",
              "      <td>0.361403</td>\n",
              "      <td>-1.871211</td>\n",
              "      <td>-0.127518</td>\n",
              "      <td>0.241406</td>\n",
              "      <td>-3.333582</td>\n",
              "      <td>0.691101</td>\n",
              "      <td>-0.074873</td>\n",
              "      <td>0.933494</td>\n",
              "      <td>1.807886</td>\n",
              "      <td>0.090333</td>\n",
              "      <td>-0.405514</td>\n",
              "      <td>-0.539757</td>\n",
              "      <td>0.830214</td>\n",
              "      <td>-0.463976</td>\n",
              "      <td>1.458139</td>\n",
              "    </tr>\n",
              "    <tr>\n",
              "      <th>2</th>\n",
              "      <td>0.100031</td>\n",
              "      <td>0.739301</td>\n",
              "      <td>0.202790</td>\n",
              "      <td>0.759485</td>\n",
              "      <td>-0.212675</td>\n",
              "      <td>-0.436654</td>\n",
              "      <td>-1.188290</td>\n",
              "      <td>0.253875</td>\n",
              "      <td>0.013937</td>\n",
              "      <td>0.062243</td>\n",
              "      <td>-0.107422</td>\n",
              "      <td>-0.324915</td>\n",
              "      <td>0.303817</td>\n",
              "      <td>1.109946</td>\n",
              "      <td>-0.213715</td>\n",
              "      <td>0.080530</td>\n",
              "      <td>-0.546967</td>\n",
              "      <td>0.490926</td>\n",
              "      <td>-0.189986</td>\n",
              "      <td>1.104346</td>\n",
              "    </tr>\n",
              "    <tr>\n",
              "      <th>3</th>\n",
              "      <td>0.054259</td>\n",
              "      <td>0.435331</td>\n",
              "      <td>0.298915</td>\n",
              "      <td>0.088002</td>\n",
              "      <td>-0.091491</td>\n",
              "      <td>-1.238320</td>\n",
              "      <td>-0.022938</td>\n",
              "      <td>-0.260833</td>\n",
              "      <td>0.065191</td>\n",
              "      <td>-0.258692</td>\n",
              "      <td>-0.059111</td>\n",
              "      <td>0.179362</td>\n",
              "      <td>0.188800</td>\n",
              "      <td>-0.204896</td>\n",
              "      <td>0.209270</td>\n",
              "      <td>0.020059</td>\n",
              "      <td>-1.573644</td>\n",
              "      <td>0.262953</td>\n",
              "      <td>0.345293</td>\n",
              "      <td>0.116107</td>\n",
              "    </tr>\n",
              "    <tr>\n",
              "      <th>4</th>\n",
              "      <td>0.174929</td>\n",
              "      <td>0.139789</td>\n",
              "      <td>-0.461714</td>\n",
              "      <td>4.336104</td>\n",
              "      <td>-0.096736</td>\n",
              "      <td>-0.032711</td>\n",
              "      <td>-0.495457</td>\n",
              "      <td>0.523477</td>\n",
              "      <td>-1.222073</td>\n",
              "      <td>-0.306521</td>\n",
              "      <td>0.076828</td>\n",
              "      <td>-1.352314</td>\n",
              "      <td>2.615791</td>\n",
              "      <td>-1.263494</td>\n",
              "      <td>-0.196113</td>\n",
              "      <td>0.015578</td>\n",
              "      <td>-0.504042</td>\n",
              "      <td>-2.517330</td>\n",
              "      <td>1.304448</td>\n",
              "      <td>0.134940</td>\n",
              "    </tr>\n",
              "    <tr>\n",
              "      <th>...</th>\n",
              "      <td>...</td>\n",
              "      <td>...</td>\n",
              "      <td>...</td>\n",
              "      <td>...</td>\n",
              "      <td>...</td>\n",
              "      <td>...</td>\n",
              "      <td>...</td>\n",
              "      <td>...</td>\n",
              "      <td>...</td>\n",
              "      <td>...</td>\n",
              "      <td>...</td>\n",
              "      <td>...</td>\n",
              "      <td>...</td>\n",
              "      <td>...</td>\n",
              "      <td>...</td>\n",
              "      <td>...</td>\n",
              "      <td>...</td>\n",
              "      <td>...</td>\n",
              "      <td>...</td>\n",
              "      <td>...</td>\n",
              "    </tr>\n",
              "    <tr>\n",
              "      <th>955</th>\n",
              "      <td>0.183025</td>\n",
              "      <td>0.149594</td>\n",
              "      <td>0.275564</td>\n",
              "      <td>0.237744</td>\n",
              "      <td>-0.155400</td>\n",
              "      <td>0.027771</td>\n",
              "      <td>0.023499</td>\n",
              "      <td>-0.304921</td>\n",
              "      <td>0.051328</td>\n",
              "      <td>-0.360123</td>\n",
              "      <td>-0.081663</td>\n",
              "      <td>-0.061370</td>\n",
              "      <td>0.069451</td>\n",
              "      <td>-0.034176</td>\n",
              "      <td>0.243075</td>\n",
              "      <td>-0.018957</td>\n",
              "      <td>0.106055</td>\n",
              "      <td>-0.131161</td>\n",
              "      <td>-0.109105</td>\n",
              "      <td>0.044212</td>\n",
              "    </tr>\n",
              "    <tr>\n",
              "      <th>956</th>\n",
              "      <td>0.082024</td>\n",
              "      <td>-1.356662</td>\n",
              "      <td>7.008064</td>\n",
              "      <td>-0.298642</td>\n",
              "      <td>1.063362</td>\n",
              "      <td>0.120004</td>\n",
              "      <td>-0.169602</td>\n",
              "      <td>0.882479</td>\n",
              "      <td>0.296639</td>\n",
              "      <td>0.010214</td>\n",
              "      <td>0.189907</td>\n",
              "      <td>-0.000372</td>\n",
              "      <td>0.032666</td>\n",
              "      <td>0.304561</td>\n",
              "      <td>-0.279967</td>\n",
              "      <td>-0.066326</td>\n",
              "      <td>0.340524</td>\n",
              "      <td>-1.047108</td>\n",
              "      <td>-0.036174</td>\n",
              "      <td>0.202693</td>\n",
              "    </tr>\n",
              "    <tr>\n",
              "      <th>957</th>\n",
              "      <td>0.263082</td>\n",
              "      <td>-0.070422</td>\n",
              "      <td>0.072546</td>\n",
              "      <td>0.449172</td>\n",
              "      <td>0.160177</td>\n",
              "      <td>0.054483</td>\n",
              "      <td>-0.126504</td>\n",
              "      <td>-0.141249</td>\n",
              "      <td>-0.215198</td>\n",
              "      <td>0.250658</td>\n",
              "      <td>0.156200</td>\n",
              "      <td>0.190981</td>\n",
              "      <td>0.182226</td>\n",
              "      <td>0.071036</td>\n",
              "      <td>-0.092729</td>\n",
              "      <td>-0.258435</td>\n",
              "      <td>-0.079135</td>\n",
              "      <td>1.411945</td>\n",
              "      <td>0.106410</td>\n",
              "      <td>-0.294806</td>\n",
              "    </tr>\n",
              "    <tr>\n",
              "      <th>958</th>\n",
              "      <td>-3.047889</td>\n",
              "      <td>-0.406016</td>\n",
              "      <td>1.865224</td>\n",
              "      <td>0.246086</td>\n",
              "      <td>1.128894</td>\n",
              "      <td>7.191616</td>\n",
              "      <td>0.020223</td>\n",
              "      <td>0.712077</td>\n",
              "      <td>-9.900548</td>\n",
              "      <td>-6.330232</td>\n",
              "      <td>-3.514909</td>\n",
              "      <td>0.262259</td>\n",
              "      <td>-2.703538</td>\n",
              "      <td>0.343726</td>\n",
              "      <td>-1.776550</td>\n",
              "      <td>0.708912</td>\n",
              "      <td>-4.441886</td>\n",
              "      <td>1.508506</td>\n",
              "      <td>-1.473345</td>\n",
              "      <td>0.215660</td>\n",
              "    </tr>\n",
              "    <tr>\n",
              "      <th>959</th>\n",
              "      <td>0.058769</td>\n",
              "      <td>0.320163</td>\n",
              "      <td>0.235987</td>\n",
              "      <td>0.281612</td>\n",
              "      <td>-0.313786</td>\n",
              "      <td>-0.381015</td>\n",
              "      <td>-0.858248</td>\n",
              "      <td>-0.148930</td>\n",
              "      <td>0.104732</td>\n",
              "      <td>0.013072</td>\n",
              "      <td>-0.320620</td>\n",
              "      <td>0.032856</td>\n",
              "      <td>-0.008057</td>\n",
              "      <td>-0.573275</td>\n",
              "      <td>0.094461</td>\n",
              "      <td>-0.642947</td>\n",
              "      <td>-0.302395</td>\n",
              "      <td>0.195187</td>\n",
              "      <td>0.051075</td>\n",
              "      <td>0.335424</td>\n",
              "    </tr>\n",
              "  </tbody>\n",
              "</table>\n",
              "<p>960 rows × 20 columns</p>\n",
              "</div>"
            ],
            "text/plain": [
              "           0         1         2   ...        17        18        19\n",
              "0    0.214453  0.276154 -0.431326  ... -0.851545  0.206845  0.327275\n",
              "1    0.280996  1.864495  3.016133  ...  0.830214 -0.463976  1.458139\n",
              "2    0.100031  0.739301  0.202790  ...  0.490926 -0.189986  1.104346\n",
              "3    0.054259  0.435331  0.298915  ...  0.262953  0.345293  0.116107\n",
              "4    0.174929  0.139789 -0.461714  ... -2.517330  1.304448  0.134940\n",
              "..        ...       ...       ...  ...       ...       ...       ...\n",
              "955  0.183025  0.149594  0.275564  ... -0.131161 -0.109105  0.044212\n",
              "956  0.082024 -1.356662  7.008064  ... -1.047108 -0.036174  0.202693\n",
              "957  0.263082 -0.070422  0.072546  ...  1.411945  0.106410 -0.294806\n",
              "958 -3.047889 -0.406016  1.865224  ...  1.508506 -1.473345  0.215660\n",
              "959  0.058769  0.320163  0.235987  ...  0.195187  0.051075  0.335424\n",
              "\n",
              "[960 rows x 20 columns]"
            ]
          },
          "metadata": {
            "tags": []
          },
          "execution_count": 21
        }
      ]
    },
    {
      "cell_type": "code",
      "metadata": {
        "id": "MCZSdCnh_Gik",
        "colab_type": "code",
        "colab": {
          "base_uri": "https://localhost:8080/",
          "height": 716
        },
        "outputId": "b1f059ae-bdeb-44b2-c0d5-861e31ed3aec"
      },
      "source": [
        "map= pd.DataFrame(pca.components_,columns=list(X_train_pd.columns))\n",
        "plt.figure(figsize=(20,12))\n",
        "sns.heatmap(map,cmap=\"YlGnBu\",annot=True, linewidths=0.5)"
      ],
      "execution_count": null,
      "outputs": [
        {
          "output_type": "execute_result",
          "data": {
            "text/plain": [
              "<matplotlib.axes._subplots.AxesSubplot at 0x7f110a41c2e8>"
            ]
          },
          "metadata": {
            "tags": []
          },
          "execution_count": 48
        },
        {
          "output_type": "display_data",
          "data": {
            "image/png": "[encoded data removed]",
            "text/plain": [
              "<Figure size 1440x864 with 2 Axes>"
            ]
          },
          "metadata": {
            "tags": [],
            "needs_background": "light"
          }
        }
      ]
    },
    {
      "cell_type": "code",
      "metadata": {
        "id": "66jeSlDa_GNq",
        "colab_type": "code",
        "colab": {}
      },
      "source": [
        ""
      ],
      "execution_count": null,
      "outputs": []
    }
  ]
}